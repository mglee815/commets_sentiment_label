{
 "cells": [
  {
   "cell_type": "code",
   "execution_count": 11,
   "metadata": {
    "colab": {
     "base_uri": "https://localhost:8080/"
    },
    "id": "q2kbaCNAzkac",
    "outputId": "8327a17e-64f1-4697-c408-a08bb8a5fcf5"
   },
   "outputs": [],
   "source": [
    "# 라이브러리 불러오기\n",
    "import requests\n",
    "from bs4 import BeautifulSoup\n",
    "from datetime import datetime, timedelta\n",
    "import asyncio\n",
    "import json\n",
    "import nest_asyncio\n",
    "import pandas as pd\n",
    "import re\n",
    "from tqdm import tqdm\n",
    "nest_asyncio.apply()"
   ]
  },
  {
   "cell_type": "code",
   "execution_count": 3,
   "metadata": {},
   "outputs": [],
   "source": [
    "urls = pd.read_csv(\"../data/naver_pop_href.csv\")"
   ]
  },
  {
   "cell_type": "code",
   "execution_count": 4,
   "metadata": {},
   "outputs": [
    {
     "data": {
      "text/html": [
       "<div>\n",
       "<style scoped>\n",
       "    .dataframe tbody tr th:only-of-type {\n",
       "        vertical-align: middle;\n",
       "    }\n",
       "\n",
       "    .dataframe tbody tr th {\n",
       "        vertical-align: top;\n",
       "    }\n",
       "\n",
       "    .dataframe thead th {\n",
       "        text-align: right;\n",
       "    }\n",
       "</style>\n",
       "<table border=\"1\" class=\"dataframe\">\n",
       "  <thead>\n",
       "    <tr style=\"text-align: right;\">\n",
       "      <th></th>\n",
       "      <th>0</th>\n",
       "    </tr>\n",
       "  </thead>\n",
       "  <tbody>\n",
       "    <tr>\n",
       "      <th>0</th>\n",
       "      <td>https://n.news.naver.com/article/008/000452225...</td>\n",
       "    </tr>\n",
       "    <tr>\n",
       "      <th>1</th>\n",
       "      <td>https://n.news.naver.com/article/008/000452229...</td>\n",
       "    </tr>\n",
       "    <tr>\n",
       "      <th>2</th>\n",
       "      <td>https://n.news.naver.com/article/008/000452228...</td>\n",
       "    </tr>\n",
       "    <tr>\n",
       "      <th>3</th>\n",
       "      <td>https://n.news.naver.com/article/008/000452224...</td>\n",
       "    </tr>\n",
       "    <tr>\n",
       "      <th>4</th>\n",
       "      <td>https://n.news.naver.com/article/008/000452241...</td>\n",
       "    </tr>\n",
       "    <tr>\n",
       "      <th>...</th>\n",
       "      <td>...</td>\n",
       "    </tr>\n",
       "    <tr>\n",
       "      <th>8335</th>\n",
       "      <td>https://n.news.naver.com/article/437/000033360...</td>\n",
       "    </tr>\n",
       "    <tr>\n",
       "      <th>8336</th>\n",
       "      <td>https://n.news.naver.com/article/437/000033366...</td>\n",
       "    </tr>\n",
       "    <tr>\n",
       "      <th>8337</th>\n",
       "      <td>https://n.news.naver.com/article/437/000033366...</td>\n",
       "    </tr>\n",
       "    <tr>\n",
       "      <th>8338</th>\n",
       "      <td>https://n.news.naver.com/article/437/000033369...</td>\n",
       "    </tr>\n",
       "    <tr>\n",
       "      <th>8339</th>\n",
       "      <td>https://n.news.naver.com/article/437/000033366...</td>\n",
       "    </tr>\n",
       "  </tbody>\n",
       "</table>\n",
       "<p>8340 rows × 1 columns</p>\n",
       "</div>"
      ],
      "text/plain": [
       "                                                      0\n",
       "0     https://n.news.naver.com/article/008/000452225...\n",
       "1     https://n.news.naver.com/article/008/000452229...\n",
       "2     https://n.news.naver.com/article/008/000452228...\n",
       "3     https://n.news.naver.com/article/008/000452224...\n",
       "4     https://n.news.naver.com/article/008/000452241...\n",
       "...                                                 ...\n",
       "8335  https://n.news.naver.com/article/437/000033360...\n",
       "8336  https://n.news.naver.com/article/437/000033366...\n",
       "8337  https://n.news.naver.com/article/437/000033366...\n",
       "8338  https://n.news.naver.com/article/437/000033369...\n",
       "8339  https://n.news.naver.com/article/437/000033366...\n",
       "\n",
       "[8340 rows x 1 columns]"
      ]
     },
     "execution_count": 4,
     "metadata": {},
     "output_type": "execute_result"
    }
   ],
   "source": [
    "test = urls.iloc[:, 1:3]\n",
    "test"
   ]
  },
  {
   "cell_type": "code",
   "execution_count": 5,
   "metadata": {
    "id": "39A4hPZryEA2"
   },
   "outputs": [],
   "source": [
    "# 함수 정의\n",
    "def get_comments(refer_url, comment_url) : # 댓글 목록을 json 형태로 받아오는 함수\n",
    "    comments = []\n",
    "    next = None\n",
    "    # 처음엔 댓글 개수를 모르므로 충분히 큰 수를 넣어 줌\n",
    "    comment_count = 10e6\n",
    "    headers = {\n",
    "        'User-Agent' : 'Mozilla/5.0 (Macintosh; Intel Mac OS X 10_15_3) AppleWebKit/605.1.15 (KHTML, like Gecko) Version/13.0.5 Safari/605.1.15',\n",
    "        'referer': refer_url\n",
    "    }\n",
    "    \n",
    "    # 수집한 댓글 수가 첫번째에 수집한 총 댓글 수 보다 많다면 반복을 종료합니다.\n",
    "    while len(comments) < comment_count :\n",
    "        comment_url_next = comment_url + '&moreParam.next=' + next if next else comment_url\n",
    "        res = requests.get(comment_url_next, headers=headers)\n",
    "        dic = json.loads(res.text[res.text.index('(')+1:-2])\n",
    "        comments.extend(list(map(lambda x : {\n",
    "            'url' : refer_url,\n",
    "            'text': x['contents'],\n",
    "            'reply_count' : x['replyCount'], \n",
    "            'uid': x['idNo'],\n",
    "            'uname' : x['userName'],\n",
    "            'like': x['sympathyCount'], \n",
    "            'dislike': x['antipathyCount'],\n",
    "            'c_time' : x['modTime'],\n",
    "            'cid': x['commentNo'],\n",
    "            'pid' : x['parentCommentNo'] \n",
    "            }, dic['result']['commentList'])))\n",
    "        comment_count = dic['result']['count']['comment']\n",
    "        next = dic['result']['morePage']['next'] if comment_count else None\n",
    "    # 필터로 삭제된 댓글을 걸러줍니다\n",
    "    comments=list(filter(lambda x: len(x['text']), comments))\n",
    "    return comments\n",
    "\n"
   ]
  },
  {
   "cell_type": "code",
   "execution_count": 6,
   "metadata": {
    "id": "oB9vJariuqiy"
   },
   "outputs": [],
   "source": [
    "def get_data(oid, aid) :\n",
    "    try :\n",
    "        # refer_url: 댓글 보기를 누르면 나오는 댓글 페이지 주소\n",
    "        # comment_url: 네트워크 탭에서 확인 가능한 동적으로 생성되는 주소\n",
    "        refer_url = f'https://n.news.naver.com/mnews/article/comment/{oid}/{aid}?sid=100'\n",
    "        comment_url = f'https://apis.naver.com/commentBox/cbox/web_naver_list_jsonp.json?ticket=news&templateId=default_politics_m3&pool=cbox5&_cv=20220623185938&_callback=jQuery33103200637113167857_1656171100524&lang=ko&country=KR&objectId=news{oid}%2C{aid}&categoryId=&pageSize=100&indexSize=10&groupId=&listType=OBJECT&pageType=more&page=1&initialize=true&userType=&useAltSort=true&replyPageSize=20&followSize=100&sort=new&includeAllStatus=true&_=1656171100525'\n",
    "\n",
    "        comments = get_comments(refer_url, comment_url)\n",
    "        comments = pd.DataFrame(comments)\n",
    "        # 댓글 수가 0개인 기사를 어떻게 할지 추후에 결정해야 함\n",
    "        return comments\n",
    "    except :\n",
    "        return None\n"
   ]
  },
  {
   "cell_type": "code",
   "execution_count": null,
   "metadata": {},
   "outputs": [
    {
     "name": "stderr",
     "output_type": "stream",
     "text": [
      " 12%|█▏        | 1042/8340 [45:56<6:52:19,  3.39s/it] "
     ]
    }
   ],
   "source": [
    "df = pd.DataFrame()\n",
    "for url in tqdm(test['0']):\n",
    "    try:\n",
    "        oid = re.findall('article/([^\\*]*)/', str(url))[0]\n",
    "        aid = re.findall(f'{oid}/([^\\*]*)[?]', str(url))[0]\n",
    "        sid = url[-3:]\n",
    "        temp = get_data(oid, aid)\n",
    "        temp['sid'] = sid\n",
    "        df =pd.concat([df, temp])\n",
    "    except:\n",
    "        print(url)"
   ]
  },
  {
   "cell_type": "code",
   "execution_count": null,
   "metadata": {},
   "outputs": [],
   "source": [
    "df.reset_index(drop = True, inplace = True)\n",
    "df"
   ]
  },
  {
   "cell_type": "code",
   "execution_count": null,
   "metadata": {},
   "outputs": [],
   "source": [
    "df.to_pickle('../data/popular_news.pkl')\n",
    "df.to_csv('../data/popular_news.csv')"
   ]
  },
  {
   "cell_type": "code",
   "execution_count": 12,
   "metadata": {},
   "outputs": [],
   "source": [
    "df = pd.read_csv(\"../data.popular_news.csv\")"
   ]
  },
  {
   "cell_type": "code",
   "execution_count": 15,
   "metadata": {},
   "outputs": [],
   "source": [
    "df[['text', 'c_time', 'url']].to_csv(\"./sample_comments.csv\")"
   ]
  }
 ],
 "metadata": {
  "colab": {
   "collapsed_sections": [],
   "name": "comment_request.ipynb",
   "provenance": []
  },
  "kernelspec": {
   "display_name": "Python 3 (ipykernel)",
   "language": "python",
   "name": "python3"
  },
  "language_info": {
   "codemirror_mode": {
    "name": "ipython",
    "version": 3
   },
   "file_extension": ".py",
   "mimetype": "text/x-python",
   "name": "python",
   "nbconvert_exporter": "python",
   "pygments_lexer": "ipython3",
   "version": "3.8.15"
  },
  "vscode": {
   "interpreter": {
    "hash": "6632c70ce360d611e847e5318887868e2366d56c00e5f501b5a0b067a934dfe7"
   }
  }
 },
 "nbformat": 4,
 "nbformat_minor": 4
}
