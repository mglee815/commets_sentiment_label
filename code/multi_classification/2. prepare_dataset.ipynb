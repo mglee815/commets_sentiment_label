{
 "cells": [
  {
   "attachments": {},
   "cell_type": "markdown",
   "metadata": {},
   "source": [
    "Before Run this code \\\n",
    "Use replace_target.ipynb code to prepare dataset"
   ]
  },
  {
   "cell_type": "code",
   "execution_count": 1,
   "metadata": {},
   "outputs": [],
   "source": [
    "import pandas as pd\n",
    "comments_data = pd.read_csv(\"../../data/replaced_text.csv\")\n",
    "temp = comments_data.sample(frac=1).reset_index(drop=True)\n",
    "temp['text'] = temp['text'].apply(lambda x : x.replace('\\n', ' '))\n",
    "temp['text'] = temp['text'].apply(lambda x : x.replace('\\t', ' '))\n",
    "temp['replaced text'] = temp['replaced text'].apply(lambda x : x.replace('\\n' , ' '))\n",
    "temp['replaced text'] = temp['replaced text'].apply(lambda x : x.replace('\\t' , ' '))\n",
    "train_test = temp\n",
    "train_test['감정'] = temp['감정'].apply(lambda x: 2 if x == '긍정' else  0 if x == '부정' else 1)"
   ]
  },
  {
   "cell_type": "code",
   "execution_count": 4,
   "metadata": {},
   "outputs": [
    {
     "name": "stdout",
     "output_type": "stream",
     "text": [
      "긍/중/부 :  1079 548 7974\n"
     ]
    }
   ],
   "source": [
    "print(\"긍/중/부 : \", sum(train_test['감정'] == 2), sum(train_test['감정'] == 1), sum(train_test['감정'] == 0))"
   ]
  },
  {
   "cell_type": "code",
   "execution_count": 5,
   "metadata": {},
   "outputs": [
    {
     "name": "stdout",
     "output_type": "stream",
     "text": [
      "8600\n",
      "1000\n"
     ]
    }
   ],
   "source": [
    "comments_train = train_test[:8600]\n",
    "comments_test = train_test[8601:]\n",
    "\n",
    "print(comments_train.shape[0])\n",
    "print(comments_test.shape[0])"
   ]
  },
  {
   "cell_type": "code",
   "execution_count": 13,
   "metadata": {},
   "outputs": [],
   "source": [
    "comments_train.to_csv('../../data/multi_comments_train.tsv', index=False, header=True, sep = \"\\t\")\n",
    "comments_test.to_csv('../../data/mulit_comments_test.tsv', index=False, header=True, sep = \"\\t\")"
   ]
  }
 ],
 "metadata": {
  "kernelspec": {
   "display_name": "base",
   "language": "python",
   "name": "python3"
  },
  "language_info": {
   "codemirror_mode": {
    "name": "ipython",
    "version": 3
   },
   "file_extension": ".py",
   "mimetype": "text/x-python",
   "name": "python",
   "nbconvert_exporter": "python",
   "pygments_lexer": "ipython3",
   "version": "3.8.15"
  },
  "orig_nbformat": 4
 },
 "nbformat": 4,
 "nbformat_minor": 2
}
