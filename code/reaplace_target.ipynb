{
 "cells": [
  {
   "cell_type": "code",
   "execution_count": 1,
   "metadata": {},
   "outputs": [],
   "source": [
    "import pandas as pd"
   ]
  },
  {
   "cell_type": "code",
   "execution_count": 11,
   "metadata": {},
   "outputs": [],
   "source": [
    "data = pd.read_excel(\"../data/news_labeling.xlsx\")"
   ]
  },
  {
   "cell_type": "code",
   "execution_count": 12,
   "metadata": {},
   "outputs": [],
   "source": [
    "data = data[['text', '타겟', '대조', '감정']]"
   ]
  },
  {
   "cell_type": "code",
   "execution_count": 13,
   "metadata": {},
   "outputs": [],
   "source": [
    "data['타겟'] = data['타겟'].fillna(\"NO_TOKEN\")\n",
    "data['대조'] = data['대조'].fillna(\"NO_TOKEN\")"
   ]
  },
  {
   "cell_type": "code",
   "execution_count": 14,
   "metadata": {},
   "outputs": [],
   "source": [
    "replaced_text = []\n",
    "for _, row in data.iterrows():\n",
    "    txt = row['text']\n",
    "    for keyword in row['타겟'].split(\",\"):\n",
    "        txt = txt.replace(keyword, \"타겟\")\n",
    "    for keyword in row['대조'].split(\",\"):\n",
    "        txt = txt.replace(keyword, \"대조\")\n",
    "    replaced_text.append(txt)"
   ]
  },
  {
   "cell_type": "code",
   "execution_count": 15,
   "metadata": {},
   "outputs": [],
   "source": [
    "data['replaced text'] = replaced_text"
   ]
  },
  {
   "cell_type": "code",
   "execution_count": 16,
   "metadata": {},
   "outputs": [
    {
     "data": {
      "text/html": [
       "<div>\n",
       "<style scoped>\n",
       "    .dataframe tbody tr th:only-of-type {\n",
       "        vertical-align: middle;\n",
       "    }\n",
       "\n",
       "    .dataframe tbody tr th {\n",
       "        vertical-align: top;\n",
       "    }\n",
       "\n",
       "    .dataframe thead th {\n",
       "        text-align: right;\n",
       "    }\n",
       "</style>\n",
       "<table border=\"1\" class=\"dataframe\">\n",
       "  <thead>\n",
       "    <tr style=\"text-align: right;\">\n",
       "      <th></th>\n",
       "      <th>text</th>\n",
       "      <th>타겟</th>\n",
       "      <th>대조</th>\n",
       "      <th>감정</th>\n",
       "      <th>replaced text</th>\n",
       "    </tr>\n",
       "  </thead>\n",
       "  <tbody>\n",
       "    <tr>\n",
       "      <th>0</th>\n",
       "      <td>욕이나오녱ㅛ 수원.화성.오산.용인 코르나 에휴</td>\n",
       "      <td>수원.화성.오산.용인 코르나</td>\n",
       "      <td>NO_TOKEN</td>\n",
       "      <td>부정</td>\n",
       "      <td>욕이나오녱ㅛ 타겟 에휴</td>\n",
       "    </tr>\n",
       "    <tr>\n",
       "      <th>1</th>\n",
       "      <td>미접종자가 마치 전염병환자인것처럼 백신패스하면서 국가가 사실상 미접종자를 왕따시키는거지</td>\n",
       "      <td>국가</td>\n",
       "      <td>미접종자</td>\n",
       "      <td>부정</td>\n",
       "      <td>대조가 마치 전염병환자인것처럼 백신패스하면서 타겟가 사실상 대조를 왕따시키는거지</td>\n",
       "    </tr>\n",
       "    <tr>\n",
       "      <th>2</th>\n",
       "      <td>대선후보 둘다 접종한건가요? 이재명은 1차까지는 했다고 나오는데 이후론 깜깜무소식....</td>\n",
       "      <td>대선후보, 이재명, 윤석렬</td>\n",
       "      <td>NO_TOKEN</td>\n",
       "      <td>부정</td>\n",
       "      <td>타겟 둘다 접종한건가요?타겟은 1차까지는 했다고 나오는데 이후론 깜깜무소식...윤석...</td>\n",
       "    </tr>\n",
       "    <tr>\n",
       "      <th>3</th>\n",
       "      <td>백신 미 접종자라고 욕 할 것 없고, 백신 맞았다고 욕 할거 없다.</td>\n",
       "      <td>미 접종자</td>\n",
       "      <td>NO_TOKEN</td>\n",
       "      <td>부정</td>\n",
       "      <td>백신 타겟라고 욕 할 것 없고, 백신 맞았다고 욕 할거 없다.</td>\n",
       "    </tr>\n",
       "    <tr>\n",
       "      <th>4</th>\n",
       "      <td>그럼..소상공인들 지원하지 말아야지.\\n어렵다는것도 거짓말이구만.</td>\n",
       "      <td>NO_TOKEN</td>\n",
       "      <td>NO_TOKEN</td>\n",
       "      <td>부정</td>\n",
       "      <td>그럼..소상공인들 지원하지 말아야지.\\n어렵다는것도 거짓말이구만.</td>\n",
       "    </tr>\n",
       "    <tr>\n",
       "      <th>...</th>\n",
       "      <td>...</td>\n",
       "      <td>...</td>\n",
       "      <td>...</td>\n",
       "      <td>...</td>\n",
       "      <td>...</td>\n",
       "    </tr>\n",
       "    <tr>\n",
       "      <th>3495</th>\n",
       "      <td>참 ㅈ같은 나라</td>\n",
       "      <td>NO_TOKEN</td>\n",
       "      <td>NO_TOKEN</td>\n",
       "      <td>부정</td>\n",
       "      <td>참 ㅈ같은 나라</td>\n",
       "    </tr>\n",
       "    <tr>\n",
       "      <th>3496</th>\n",
       "      <td>틱톡에서 많이 나오는 도로</td>\n",
       "      <td>NO_TOKEN</td>\n",
       "      <td>NO_TOKEN</td>\n",
       "      <td>중립</td>\n",
       "      <td>틱톡에서 많이 나오는 도로</td>\n",
       "    </tr>\n",
       "    <tr>\n",
       "      <th>3497</th>\n",
       "      <td>짱\\n\\n\\n\\n\\n\\n개 뉴스가메인인가\\n\\n\\n\\n\\n짱\\n\\n\\n개를 짱\\n\\...</td>\n",
       "      <td>NO_TOKEN</td>\n",
       "      <td>NO_TOKEN</td>\n",
       "      <td>부정</td>\n",
       "      <td>짱\\n\\n\\n\\n\\n\\n개 뉴스가메인인가\\n\\n\\n\\n\\n짱\\n\\n\\n개를 짱\\n\\...</td>\n",
       "    </tr>\n",
       "    <tr>\n",
       "      <th>3498</th>\n",
       "      <td>코미디네</td>\n",
       "      <td>NO_TOKEN</td>\n",
       "      <td>NO_TOKEN</td>\n",
       "      <td>부정</td>\n",
       "      <td>코미디네</td>\n",
       "    </tr>\n",
       "    <tr>\n",
       "      <th>3499</th>\n",
       "      <td>터널 없니??</td>\n",
       "      <td>NO_TOKEN</td>\n",
       "      <td>NO_TOKEN</td>\n",
       "      <td>부정</td>\n",
       "      <td>터널 없니??</td>\n",
       "    </tr>\n",
       "  </tbody>\n",
       "</table>\n",
       "<p>3500 rows × 5 columns</p>\n",
       "</div>"
      ],
      "text/plain": [
       "                                                   text               타겟  \\\n",
       "0                             욕이나오녱ㅛ 수원.화성.오산.용인 코르나 에휴  수원.화성.오산.용인 코르나   \n",
       "1      미접종자가 마치 전염병환자인것처럼 백신패스하면서 국가가 사실상 미접종자를 왕따시키는거지               국가   \n",
       "2     대선후보 둘다 접종한건가요? 이재명은 1차까지는 했다고 나오는데 이후론 깜깜무소식....   대선후보, 이재명, 윤석렬   \n",
       "3                 백신 미 접종자라고 욕 할 것 없고, 백신 맞았다고 욕 할거 없다.            미 접종자   \n",
       "4                  그럼..소상공인들 지원하지 말아야지.\\n어렵다는것도 거짓말이구만.         NO_TOKEN   \n",
       "...                                                 ...              ...   \n",
       "3495                                           참 ㅈ같은 나라         NO_TOKEN   \n",
       "3496                                     틱톡에서 많이 나오는 도로         NO_TOKEN   \n",
       "3497  짱\\n\\n\\n\\n\\n\\n개 뉴스가메인인가\\n\\n\\n\\n\\n짱\\n\\n\\n개를 짱\\n\\...         NO_TOKEN   \n",
       "3498                                               코미디네         NO_TOKEN   \n",
       "3499                                            터널 없니??         NO_TOKEN   \n",
       "\n",
       "            대조  감정                                      replaced text  \n",
       "0     NO_TOKEN  부정                                       욕이나오녱ㅛ 타겟 에휴  \n",
       "1         미접종자  부정       대조가 마치 전염병환자인것처럼 백신패스하면서 타겟가 사실상 대조를 왕따시키는거지  \n",
       "2     NO_TOKEN  부정  타겟 둘다 접종한건가요?타겟은 1차까지는 했다고 나오는데 이후론 깜깜무소식...윤석...  \n",
       "3     NO_TOKEN  부정                 백신 타겟라고 욕 할 것 없고, 백신 맞았다고 욕 할거 없다.  \n",
       "4     NO_TOKEN  부정               그럼..소상공인들 지원하지 말아야지.\\n어렵다는것도 거짓말이구만.  \n",
       "...        ...  ..                                                ...  \n",
       "3495  NO_TOKEN  부정                                           참 ㅈ같은 나라  \n",
       "3496  NO_TOKEN  중립                                     틱톡에서 많이 나오는 도로  \n",
       "3497  NO_TOKEN  부정  짱\\n\\n\\n\\n\\n\\n개 뉴스가메인인가\\n\\n\\n\\n\\n짱\\n\\n\\n개를 짱\\n\\...  \n",
       "3498  NO_TOKEN  부정                                               코미디네  \n",
       "3499  NO_TOKEN  부정                                            터널 없니??  \n",
       "\n",
       "[3500 rows x 5 columns]"
      ]
     },
     "execution_count": 16,
     "metadata": {},
     "output_type": "execute_result"
    }
   ],
   "source": [
    "data"
   ]
  },
  {
   "cell_type": "code",
   "execution_count": 10,
   "metadata": {},
   "outputs": [],
   "source": [
    "data.to_csv(\"../data/replaced_text.csv\")"
   ]
  }
 ],
 "metadata": {
  "kernelspec": {
   "display_name": "base",
   "language": "python",
   "name": "python3"
  },
  "language_info": {
   "codemirror_mode": {
    "name": "ipython",
    "version": 3
   },
   "file_extension": ".py",
   "mimetype": "text/x-python",
   "name": "python",
   "nbconvert_exporter": "python",
   "pygments_lexer": "ipython3",
   "version": "3.8.15"
  },
  "orig_nbformat": 4
 },
 "nbformat": 4,
 "nbformat_minor": 2
}
